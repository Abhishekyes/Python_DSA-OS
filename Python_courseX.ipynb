{
 "cells": [
  {
   "cell_type": "markdown",
   "id": "8334fe0e",
   "metadata": {},
   "source": [
    "# Day_1 \n",
    "\n",
    "## Python support 3 categories data type:\n",
    "#### 1. basic type : (int,float,bollean and string)\n",
    "#### 2. container type:(list,tuple ,set,dictionary)\n",
    "#### 3. user define type : class"
   ]
  },
  {
   "cell_type": "code",
   "execution_count": 11,
   "id": "9a4366db",
   "metadata": {},
   "outputs": [
    {
     "name": "stdout",
     "output_type": "stream",
     "text": [
      "4\n",
      "1e+308\n"
     ]
    }
   ],
   "source": [
    "# integer\n",
    "print(4)\n",
    "print(1e308)"
   ]
  },
  {
   "cell_type": "code",
   "execution_count": 13,
   "id": "5af31927",
   "metadata": {},
   "outputs": [
    {
     "name": "stdout",
     "output_type": "stream",
     "text": [
      "4.5\n",
      "1.7e+307\n"
     ]
    }
   ],
   "source": [
    "# float\n",
    "print(4.5)\n",
    "print(1.7e307)"
   ]
  },
  {
   "cell_type": "code",
   "execution_count": 14,
   "id": "50e516a3",
   "metadata": {},
   "outputs": [
    {
     "name": "stdout",
     "output_type": "stream",
     "text": [
      "True\n",
      "False\n"
     ]
    }
   ],
   "source": [
    "# boolean\n",
    "print(True)\n",
    "print(False)"
   ]
  },
  {
   "cell_type": "code",
   "execution_count": 15,
   "id": "f2618378",
   "metadata": {},
   "outputs": [
    {
     "name": "stdout",
     "output_type": "stream",
     "text": [
      "(4+8j)\n"
     ]
    }
   ],
   "source": [
    "# complex\n",
    "print(4+8j)"
   ]
  },
  {
   "cell_type": "code",
   "execution_count": 16,
   "id": "a42333b1",
   "metadata": {},
   "outputs": [
    {
     "name": "stdout",
     "output_type": "stream",
     "text": [
      "abhi\n",
      "abhi\n",
      "abhi\n"
     ]
    }
   ],
   "source": [
    "# string\n",
    "print('abhi')\n",
    "print(\"abhi\")\n",
    "print(\"\"\"abhi\"\"\")"
   ]
  },
  {
   "cell_type": "code",
   "execution_count": 17,
   "id": "11b5aa49",
   "metadata": {},
   "outputs": [
    {
     "name": "stdout",
     "output_type": "stream",
     "text": [
      "[1, 2, 5, 3, 6]\n"
     ]
    }
   ],
   "source": [
    "# list\n",
    "print([1,2,5,3,6])"
   ]
  },
  {
   "cell_type": "code",
   "execution_count": 18,
   "id": "254b5880",
   "metadata": {},
   "outputs": [
    {
     "name": "stdout",
     "output_type": "stream",
     "text": [
      "(1, 2, 5, 4, 6, 5)\n"
     ]
    }
   ],
   "source": [
    "#Tuplr\n",
    "print((1,2,5,4,6,5))"
   ]
  },
  {
   "cell_type": "code",
   "execution_count": 19,
   "id": "7f50fa58",
   "metadata": {},
   "outputs": [
    {
     "name": "stdout",
     "output_type": "stream",
     "text": [
      "{'A': 5}\n"
     ]
    }
   ],
   "source": [
    "# dictionary\n",
    "print({\"A\":5})"
   ]
  },
  {
   "cell_type": "markdown",
   "id": "0b0a10b1",
   "metadata": {},
   "source": [
    "# comments"
   ]
  },
  {
   "cell_type": "code",
   "execution_count": null,
   "id": "589a097f",
   "metadata": {},
   "outputs": [],
   "source": [
    "# enhance code readability\n",
    "# this is a comment\n",
    "# No multi line comment"
   ]
  },
  {
   "cell_type": "markdown",
   "id": "e70e3fd1",
   "metadata": {},
   "source": [
    "# Variables"
   ]
  },
  {
   "cell_type": "code",
   "execution_count": 20,
   "id": "1f97d342",
   "metadata": {},
   "outputs": [
    {
     "name": "stdout",
     "output_type": "stream",
     "text": [
      "Abhishek\n"
     ]
    }
   ],
   "source": [
    "name = 'Abhishek'\n",
    "print(name)"
   ]
  },
  {
   "cell_type": "code",
   "execution_count": 22,
   "id": "a5294f87",
   "metadata": {},
   "outputs": [],
   "source": [
    "# No var declaration use directly"
   ]
  },
  {
   "cell_type": "code",
   "execution_count": 23,
   "id": "0e98e4c1",
   "metadata": {},
   "outputs": [],
   "source": [
    "# Dynamic typing present in python \n",
    "# static typing not present(no need to declear var)"
   ]
  },
  {
   "cell_type": "code",
   "execution_count": 24,
   "id": "384e00cc",
   "metadata": {},
   "outputs": [
    {
     "name": "stdout",
     "output_type": "stream",
     "text": [
      "Abhishek\n"
     ]
    }
   ],
   "source": [
    "print(name)"
   ]
  },
  {
   "cell_type": "code",
   "execution_count": 27,
   "id": "11fd2ffc",
   "metadata": {},
   "outputs": [
    {
     "name": "stdout",
     "output_type": "stream",
     "text": [
      "4\n"
     ]
    }
   ],
   "source": [
    "name = 4\n",
    "print(name)"
   ]
  },
  {
   "cell_type": "code",
   "execution_count": 28,
   "id": "2076cbc6",
   "metadata": {},
   "outputs": [],
   "source": [
    "# Dynamic Binding"
   ]
  },
  {
   "cell_type": "code",
   "execution_count": 29,
   "id": "88c125f4",
   "metadata": {},
   "outputs": [],
   "source": [
    "# static binding (declear var life time not in python)"
   ]
  },
  {
   "cell_type": "code",
   "execution_count": 33,
   "id": "be8b8b1d",
   "metadata": {},
   "outputs": [
    {
     "name": "stdout",
     "output_type": "stream",
     "text": [
      "5\n",
      "6\n",
      "10\n",
      "4\n",
      "8\n",
      "6\n",
      "8\n",
      "8\n",
      "8\n"
     ]
    }
   ],
   "source": [
    "a =5;b=6;c=10\n",
    "x,y,z = 4,8,6\n",
    "q=r=t=8\n",
    "print(a)\n",
    "print(b)\n",
    "print(c)\n",
    "print(x)\n",
    "print(y)\n",
    "print(z)\n",
    "print(q)\n",
    "print(r)\n",
    "print(t)\n"
   ]
  },
  {
   "cell_type": "code",
   "execution_count": null,
   "id": "ae6c0e23",
   "metadata": {},
   "outputs": [],
   "source": []
  },
  {
   "cell_type": "markdown",
   "id": "2c42670c",
   "metadata": {},
   "source": [
    "# Keywords and Identifiers\n",
    " #### Python a case sensitive programming language\n",
    "    \n",
    "##### In programming, a keyword is a word that is a reserved by program because the word has special meaning.keywords can be commands or parameters,every prog lang has a set of keywords that cannot be used in variable name."
   ]
  },
  {
   "cell_type": "code",
   "execution_count": 34,
   "id": "1ab64266",
   "metadata": {},
   "outputs": [
    {
     "name": "stdout",
     "output_type": "stream",
     "text": [
      "['False', 'None', 'True', '__peg_parser__', 'and', 'as', 'assert', 'async', 'await', 'break', 'class', 'continue', 'def', 'del', 'elif', 'else', 'except', 'finally', 'for', 'from', 'global', 'if', 'import', 'in', 'is', 'lambda', 'nonlocal', 'not', 'or', 'pass', 'raise', 'return', 'try', 'while', 'with', 'yield']\n"
     ]
    }
   ],
   "source": [
    "# python has 3 keywords\n",
    "import keyword\n",
    "print(keyword.kwlist)"
   ]
  },
  {
   "cell_type": "markdown",
   "id": "0331578e",
   "metadata": {},
   "source": [
    "# Identifiers\n",
    "##### A python identifier is a name used to identify cariable,funtion,class method or the object\n",
    "\n",
    "### Rules of setting identifiers\n",
    "#### can only start with an alphabet or _\n",
    "#### followed by 0 and more letter,_ and digits\n",
    "#### keywords cannot be used as an identfiers\n",
    "\n"
   ]
  },
  {
   "cell_type": "code",
   "execution_count": 35,
   "id": "e9c8b2f6",
   "metadata": {},
   "outputs": [
    {
     "ename": "SyntaxError",
     "evalue": "cannot assign to False (3927116261.py, line 1)",
     "output_type": "error",
     "traceback": [
      "\u001b[1;36m  File \u001b[1;32m\"C:\\Users\\yoges\\AppData\\Local\\Temp\\ipykernel_5760\\3927116261.py\"\u001b[1;36m, line \u001b[1;32m1\u001b[0m\n\u001b[1;33m    False = (\"False\")\u001b[0m\n\u001b[1;37m    ^\u001b[0m\n\u001b[1;31mSyntaxError\u001b[0m\u001b[1;31m:\u001b[0m cannot assign to False\n"
     ]
    }
   ],
   "source": [
    "False = (\"False\")\n",
    "print(False)"
   ]
  },
  {
   "cell_type": "markdown",
   "id": "53f68ae2",
   "metadata": {},
   "source": [
    "# User input taking and type conversion\n",
    "\n"
   ]
  },
  {
   "cell_type": "code",
   "execution_count": 36,
   "id": "716e2000",
   "metadata": {},
   "outputs": [
    {
     "name": "stdout",
     "output_type": "stream",
     "text": [
      "5\n"
     ]
    },
    {
     "data": {
      "text/plain": [
       "'5'"
      ]
     },
     "execution_count": 36,
     "metadata": {},
     "output_type": "execute_result"
    }
   ],
   "source": [
    "input()"
   ]
  },
  {
   "cell_type": "code",
   "execution_count": 38,
   "id": "c1221e34",
   "metadata": {},
   "outputs": [
    {
     "name": "stdout",
     "output_type": "stream",
     "text": [
      "Enter 1st num15\n",
      "Enter 2nd num26\n",
      "5\n",
      "6\n"
     ]
    }
   ],
   "source": [
    "f_num = input(\"Enter 1st num1\")\n",
    "s_num = input(\"Enter 2nd num2\")\n",
    "print(f_num)\n",
    "print(s_num)"
   ]
  },
  {
   "cell_type": "code",
   "execution_count": 40,
   "id": "ff561ae7",
   "metadata": {},
   "outputs": [
    {
     "name": "stdout",
     "output_type": "stream",
     "text": [
      "56\n"
     ]
    }
   ],
   "source": [
    "result = f_num + s_num\n",
    "print(result)"
   ]
  },
  {
   "cell_type": "code",
   "execution_count": 41,
   "id": "3f3a9c4b",
   "metadata": {},
   "outputs": [
    {
     "data": {
      "text/plain": [
       "str"
      ]
     },
     "execution_count": 41,
     "metadata": {},
     "output_type": "execute_result"
    }
   ],
   "source": [
    "# type\n",
    "type(result)"
   ]
  },
  {
   "cell_type": "markdown",
   "id": "2ace44f8",
   "metadata": {},
   "source": [
    "# Implicit Type conversion: \n",
    "#### : know python own no need any conversion\n",
    "# Explicit Type conversion:\n",
    "### : Need to do by forcefully"
   ]
  },
  {
   "cell_type": "code",
   "execution_count": 43,
   "id": "3537f5d0",
   "metadata": {},
   "outputs": [
    {
     "data": {
      "text/plain": [
       "9"
      ]
     },
     "execution_count": 43,
     "metadata": {},
     "output_type": "execute_result"
    }
   ],
   "source": [
    "# implicitly\n",
    "4+5"
   ]
  },
  {
   "cell_type": "code",
   "execution_count": 44,
   "id": "94ff4943",
   "metadata": {},
   "outputs": [
    {
     "data": {
      "text/plain": [
       "'56'"
      ]
     },
     "execution_count": 44,
     "metadata": {},
     "output_type": "execute_result"
    }
   ],
   "source": [
    "# explicit\n",
    "\n",
    "f_num+s_num"
   ]
  },
  {
   "cell_type": "code",
   "execution_count": 45,
   "id": "16e1c927",
   "metadata": {},
   "outputs": [],
   "source": [
    "# all type :int,str,complex,list ,tuple,dict, \n",
    "# it change depend \n"
   ]
  },
  {
   "cell_type": "code",
   "execution_count": 47,
   "id": "2bba93fb",
   "metadata": {},
   "outputs": [
    {
     "data": {
      "text/plain": [
       "5"
      ]
     },
     "execution_count": 47,
     "metadata": {},
     "output_type": "execute_result"
    }
   ],
   "source": [
    "# type conversion (its not permanent)\n",
    "a = 5.0\n",
    "int(a)\n"
   ]
  },
  {
   "cell_type": "code",
   "execution_count": 48,
   "id": "013933c4",
   "metadata": {},
   "outputs": [
    {
     "data": {
      "text/plain": [
       "5.0"
      ]
     },
     "execution_count": 48,
     "metadata": {},
     "output_type": "execute_result"
    }
   ],
   "source": [
    "a"
   ]
  },
  {
   "cell_type": "markdown",
   "id": "cd4a95c6",
   "metadata": {},
   "source": [
    "# Literals\n",
    "\n",
    "#### Literals is a row data given in a varible. in Python there are various type of literals they are follows:\n",
    "\n",
    "#### Numerical Literals\n",
    "#### String Literals\n",
    "#### Bollean literals\n",
    "#### Special Literals\n"
   ]
  },
  {
   "cell_type": "markdown",
   "id": "94e95e33",
   "metadata": {},
   "source": [
    "## 1. Numerical Literals\n"
   ]
  },
  {
   "cell_type": "code",
   "execution_count": 52,
   "id": "444d982c",
   "metadata": {},
   "outputs": [
    {
     "name": "stdout",
     "output_type": "stream",
     "text": [
      "10 100 200 300\n",
      "10.5 150.0 0.0015\n",
      "3.14j 3.14 0.0\n"
     ]
    }
   ],
   "source": [
    "a = 0b1010  #binary\n",
    "b = 100     #decimal\n",
    "c = 0o310   #octal\n",
    "d = 0x12c   #decimal\n",
    "\n",
    "#float literal\n",
    "f_1 = 10.5\n",
    "f_2 = 1.5e2\n",
    "f_3 = 1.5e-3\n",
    "\n",
    "# complex\n",
    "x = 3.14j\n",
    "\n",
    "print(a,b,c,d)\n",
    "print(f_1,f_2,f_3)\n",
    "print(x,x.imag,x.real)"
   ]
  },
  {
   "cell_type": "markdown",
   "id": "d0cb9882",
   "metadata": {},
   "source": [
    "## 2. String Literals\n"
   ]
  },
  {
   "cell_type": "code",
   "execution_count": 63,
   "id": "f5825ea5",
   "metadata": {},
   "outputs": [
    {
     "name": "stdout",
     "output_type": "stream",
     "text": [
      "This ia python\n",
      "this is a new \n",
      "C\n",
      "this is use for multi line string\n",
      "😀😆🤣\n",
      " data raw \\n string\n"
     ]
    }
   ],
   "source": [
    "st = 'This ia python'\n",
    "sts = \"this is a new \"\n",
    "char = \"C\"\n",
    "multistring = \"\"\"this is use for multi line string\"\"\"\n",
    "unicode = u\"\\U0001f600\\U0001F606\\U0001F923\"\n",
    "raw_str = r\" data raw \\n string\"\n",
    "\n",
    "print(st)\n",
    "print(sts)\n",
    "print(char)\n",
    "print(multistring)\n",
    "print(unicode)\n",
    "print(raw_str)"
   ]
  },
  {
   "cell_type": "markdown",
   "id": "672d858f",
   "metadata": {},
   "source": [
    "##  3.Boolean Literals\n"
   ]
  },
  {
   "cell_type": "code",
   "execution_count": 64,
   "id": "5ba8838b",
   "metadata": {},
   "outputs": [
    {
     "name": "stdout",
     "output_type": "stream",
     "text": [
      "a: 5\n",
      "b: 5\n"
     ]
    }
   ],
   "source": [
    "a = True + 4\n",
    "b = False + 5\n",
    "print(\"a:\",a)\n",
    "print(\"b:\",b)\n"
   ]
  },
  {
   "cell_type": "markdown",
   "id": "76dba596",
   "metadata": {},
   "source": [
    "## 4.Special Literals \n"
   ]
  },
  {
   "cell_type": "code",
   "execution_count": 70,
   "id": "16aa9227",
   "metadata": {},
   "outputs": [
    {
     "name": "stdout",
     "output_type": "stream",
     "text": [
      "None\n"
     ]
    }
   ],
   "source": [
    "# assign variable just take inside code no use \n",
    "a = None\n",
    "print(a)"
   ]
  },
  {
   "cell_type": "code",
   "execution_count": 69,
   "id": "9fc39106",
   "metadata": {},
   "outputs": [],
   "source": [
    "c = 45+95"
   ]
  },
  {
   "cell_type": "markdown",
   "id": "a8c3f8d7",
   "metadata": {},
   "source": [
    "# Operators\n",
    "### operators are use to perform operation on the vatibales and values.Python has the following operator:\n",
    "- ### Arithmatic operators\n",
    "- ### Comparision operators\n",
    "- ### Logical operators\n",
    "- ### Bitwise operators\n",
    "- ### Assignment operators\n",
    "- ### Identity operators\n",
    "- ### Membership operators\n"
   ]
  },
  {
   "cell_type": "code",
   "execution_count": 83,
   "id": "05a49ece",
   "metadata": {},
   "outputs": [
    {
     "data": {
      "text/plain": [
       "7"
      ]
     },
     "execution_count": 83,
     "metadata": {},
     "output_type": "execute_result"
    }
   ],
   "source": [
    "#Arithmatic operator\n",
    "\n",
    "x = 5\n",
    "y = 2\n",
    "\n",
    "x + y "
   ]
  },
  {
   "cell_type": "code",
   "execution_count": 72,
   "id": "a29f5d3e",
   "metadata": {},
   "outputs": [
    {
     "data": {
      "text/plain": [
       "3"
      ]
     },
     "execution_count": 72,
     "metadata": {},
     "output_type": "execute_result"
    }
   ],
   "source": [
    "x-y\n"
   ]
  },
  {
   "cell_type": "code",
   "execution_count": 73,
   "id": "8ef381ad",
   "metadata": {},
   "outputs": [
    {
     "data": {
      "text/plain": [
       "2.5"
      ]
     },
     "execution_count": 73,
     "metadata": {},
     "output_type": "execute_result"
    }
   ],
   "source": [
    "# true division\n",
    "x/y"
   ]
  },
  {
   "cell_type": "code",
   "execution_count": 74,
   "id": "44f1cd70",
   "metadata": {},
   "outputs": [
    {
     "data": {
      "text/plain": [
       "2"
      ]
     },
     "execution_count": 74,
     "metadata": {},
     "output_type": "execute_result"
    }
   ],
   "source": [
    "# integer division\n",
    "x//y"
   ]
  },
  {
   "cell_type": "code",
   "execution_count": 76,
   "id": "8b1dacbc",
   "metadata": {},
   "outputs": [
    {
     "data": {
      "text/plain": [
       "1"
      ]
     },
     "execution_count": 76,
     "metadata": {},
     "output_type": "execute_result"
    }
   ],
   "source": [
    "x%y"
   ]
  },
  {
   "cell_type": "code",
   "execution_count": 77,
   "id": "c466cb32",
   "metadata": {},
   "outputs": [
    {
     "data": {
      "text/plain": [
       "25"
      ]
     },
     "execution_count": 77,
     "metadata": {},
     "output_type": "execute_result"
    }
   ],
   "source": [
    "x ** y"
   ]
  },
  {
   "cell_type": "code",
   "execution_count": 78,
   "id": "222ff46c",
   "metadata": {},
   "outputs": [
    {
     "data": {
      "text/plain": [
       "True"
      ]
     },
     "execution_count": 78,
     "metadata": {},
     "output_type": "execute_result"
    }
   ],
   "source": [
    "# comparision operator\n",
    "\n",
    "x>y"
   ]
  },
  {
   "cell_type": "code",
   "execution_count": 79,
   "id": "1e052f5b",
   "metadata": {},
   "outputs": [
    {
     "data": {
      "text/plain": [
       "False"
      ]
     },
     "execution_count": 79,
     "metadata": {},
     "output_type": "execute_result"
    }
   ],
   "source": [
    "x<y"
   ]
  },
  {
   "cell_type": "code",
   "execution_count": 84,
   "id": "42bb0651",
   "metadata": {},
   "outputs": [
    {
     "data": {
      "text/plain": [
       "False"
      ]
     },
     "execution_count": 84,
     "metadata": {},
     "output_type": "execute_result"
    }
   ],
   "source": [
    "x==y"
   ]
  },
  {
   "cell_type": "code",
   "execution_count": 85,
   "id": "920089cb",
   "metadata": {},
   "outputs": [
    {
     "data": {
      "text/plain": [
       "True"
      ]
     },
     "execution_count": 85,
     "metadata": {},
     "output_type": "execute_result"
    }
   ],
   "source": [
    "x!= y"
   ]
  },
  {
   "cell_type": "code",
   "execution_count": 88,
   "id": "ed745839",
   "metadata": {},
   "outputs": [
    {
     "name": "stdout",
     "output_type": "stream",
     "text": [
      "True\n"
     ]
    }
   ],
   "source": [
    "# Logical operator\n",
    "p = True\n",
    "q =False\n",
    "\n",
    "print(p or q)"
   ]
  },
  {
   "cell_type": "code",
   "execution_count": 89,
   "id": "18fd5982",
   "metadata": {},
   "outputs": [
    {
     "data": {
      "text/plain": [
       "False"
      ]
     },
     "execution_count": 89,
     "metadata": {},
     "output_type": "execute_result"
    }
   ],
   "source": [
    "p and q "
   ]
  },
  {
   "cell_type": "code",
   "execution_count": 91,
   "id": "c540edc4",
   "metadata": {},
   "outputs": [
    {
     "data": {
      "text/plain": [
       "True"
      ]
     },
     "execution_count": 91,
     "metadata": {},
     "output_type": "execute_result"
    }
   ],
   "source": [
    "not q"
   ]
  },
  {
   "cell_type": "code",
   "execution_count": 93,
   "id": "9a7b56be",
   "metadata": {},
   "outputs": [],
   "source": [
    "# Bitwise\n",
    "x = 2\n",
    "y = 3"
   ]
  },
  {
   "cell_type": "code",
   "execution_count": 94,
   "id": "8f67cd5a",
   "metadata": {},
   "outputs": [
    {
     "name": "stdout",
     "output_type": "stream",
     "text": [
      "2\n"
     ]
    }
   ],
   "source": [
    "\n",
    "print(x & y)"
   ]
  },
  {
   "cell_type": "code",
   "execution_count": 96,
   "id": "7034cdb6",
   "metadata": {},
   "outputs": [
    {
     "data": {
      "text/plain": [
       "3"
      ]
     },
     "execution_count": 96,
     "metadata": {},
     "output_type": "execute_result"
    }
   ],
   "source": [
    "x|y"
   ]
  },
  {
   "cell_type": "code",
   "execution_count": 97,
   "id": "64f1eb6a",
   "metadata": {},
   "outputs": [
    {
     "data": {
      "text/plain": [
       "0"
      ]
     },
     "execution_count": 97,
     "metadata": {},
     "output_type": "execute_result"
    }
   ],
   "source": [
    "x >> y"
   ]
  },
  {
   "cell_type": "code",
   "execution_count": 98,
   "id": "7dfb9950",
   "metadata": {},
   "outputs": [
    {
     "data": {
      "text/plain": [
       "16"
      ]
     },
     "execution_count": 98,
     "metadata": {},
     "output_type": "execute_result"
    }
   ],
   "source": [
    "x<<y"
   ]
  },
  {
   "cell_type": "code",
   "execution_count": 99,
   "id": "eb1b9891",
   "metadata": {},
   "outputs": [
    {
     "data": {
      "text/plain": [
       "-2"
      ]
     },
     "execution_count": 99,
     "metadata": {},
     "output_type": "execute_result"
    }
   ],
   "source": [
    "-x"
   ]
  },
  {
   "cell_type": "code",
   "execution_count": null,
   "id": "3d07c9c7",
   "metadata": {},
   "outputs": [],
   "source": []
  },
  {
   "cell_type": "code",
   "execution_count": 100,
   "id": "68d5c88b",
   "metadata": {},
   "outputs": [
    {
     "data": {
      "text/plain": [
       "3"
      ]
     },
     "execution_count": 100,
     "metadata": {},
     "output_type": "execute_result"
    }
   ],
   "source": [
    "#Assignment operator\n",
    "\n",
    "a=3\n",
    "a"
   ]
  },
  {
   "cell_type": "code",
   "execution_count": 102,
   "id": "fdc683f5",
   "metadata": {},
   "outputs": [
    {
     "name": "stdout",
     "output_type": "stream",
     "text": [
      "9\n"
     ]
    }
   ],
   "source": [
    "a += 6\n",
    "print(a)"
   ]
  },
  {
   "cell_type": "code",
   "execution_count": 103,
   "id": "fb4298b0",
   "metadata": {},
   "outputs": [],
   "source": [
    "a -= 6\n",
    "a += 9 \n",
    "a *= 10\n",
    "a &= 10"
   ]
  },
  {
   "cell_type": "code",
   "execution_count": 104,
   "id": "acdf7986",
   "metadata": {},
   "outputs": [
    {
     "name": "stdout",
     "output_type": "stream",
     "text": [
      "True\n"
     ]
    }
   ],
   "source": [
    "# Identity operator(same menory location both var or not)\n",
    "a = 2\n",
    "b = 2\n",
    "print(a is b)\n"
   ]
  },
  {
   "cell_type": "code",
   "execution_count": 105,
   "id": "3c63a93d",
   "metadata": {},
   "outputs": [
    {
     "data": {
      "text/plain": [
       "False"
      ]
     },
     "execution_count": 105,
     "metadata": {},
     "output_type": "execute_result"
    }
   ],
   "source": [
    "a = [1,2,5]\n",
    "b = [1,2,5]\n",
    "\n",
    "a is b"
   ]
  },
  {
   "cell_type": "code",
   "execution_count": 112,
   "id": "7a3af835",
   "metadata": {},
   "outputs": [
    {
     "name": "stdout",
     "output_type": "stream",
     "text": [
      "False\n",
      "True\n"
     ]
    }
   ],
   "source": [
    "a = \"ab-hi\"\n",
    "b = \"ab-hi\"\n",
    "print(a is b)\n",
    "print(b  is not a)"
   ]
  },
  {
   "cell_type": "code",
   "execution_count": 110,
   "id": "5c7fe9fa",
   "metadata": {},
   "outputs": [
    {
     "name": "stdout",
     "output_type": "stream",
     "text": [
      "False\n",
      "True\n"
     ]
    }
   ],
   "source": [
    "# membership operator\n",
    "x = \"delhi\"\n",
    "print(\"d\" not in x)\n",
    "print(\"i\" in x)"
   ]
  },
  {
   "cell_type": "markdown",
   "id": "0b78c198",
   "metadata": {},
   "source": [
    "#  Decision control \n",
    "\n"
   ]
  },
  {
   "cell_type": "code",
   "execution_count": 117,
   "id": "5fcb9899",
   "metadata": {},
   "outputs": [
    {
     "name": "stdout",
     "output_type": "stream",
     "text": [
      "Enter emaildsf\n",
      "wrong email\n"
     ]
    }
   ],
   "source": [
    "# corr_email = xyz@gmail.com\n",
    "# pass = 123\n",
    "email = input(\"Enter email\")\n",
    "if '@' in email:\n",
    "    password = input('enter password')\n",
    "    if email == \"xyz@gmail.com\" and password == \"1234\":\n",
    "        print(\"Welcome\")\n",
    "    elif email == \"xyz@gmail.com\" and password != \"1234\":\n",
    "        print(\"pass incorrect\")\n",
    "        password = input(\"password give\")\n",
    "        if password == \"1234\":\n",
    "            print(\"final correct\")\n",
    "        else:\n",
    "            print(\"still wrong\")\n",
    "    else:\n",
    "    \tprint(\"wrong email\")\n",
    "else:\n",
    "    print(\"wrong email\")"
   ]
  },
  {
   "cell_type": "code",
   "execution_count": 120,
   "id": "7e794b7e",
   "metadata": {},
   "outputs": [
    {
     "name": "stdout",
     "output_type": "stream",
     "text": [
      "2\n",
      "3\n",
      "4\n",
      "5\n",
      "6\n",
      "7\n",
      "8\n",
      "9\n"
     ]
    }
   ],
   "source": [
    "#  While \n",
    "# For\n",
    "\n",
    "\n",
    "x = 2\n",
    "while x < 10:\n",
    "    print(x)\n",
    "    x += 1"
   ]
  },
  {
   "cell_type": "code",
   "execution_count": 124,
   "id": "a4e574c0",
   "metadata": {},
   "outputs": [
    {
     "data": {
      "text/plain": [
       "69"
      ]
     },
     "execution_count": 124,
     "metadata": {},
     "output_type": "execute_result"
    }
   ],
   "source": [
    "# guessing_game\n",
    "import random\n",
    "\n",
    "random.randint(1,100)\n"
   ]
  },
  {
   "cell_type": "code",
   "execution_count": 127,
   "id": "28afa9ca",
   "metadata": {},
   "outputs": [
    {
     "name": "stdout",
     "output_type": "stream",
     "text": [
      " guess5\n",
      "guess higher\n",
      "enter guess new num50\n",
      "guess higher\n",
      "enter guess new num90\n",
      "guess lower\n",
      "enter guess new num80\n",
      "guess lower\n",
      "enter guess new num70\n",
      "guess higher\n",
      "enter guess new num75\n",
      "guess higher\n",
      "enter guess new num77\n",
      "guess lower\n",
      "enter guess new num76\n",
      " right guess\n"
     ]
    }
   ],
   "source": [
    "jackpot = random.randint(1,100)\n",
    "guess = int(input(\" guess\"))\n",
    "counter = 0\n",
    "while guess != jackpot:\n",
    "    if guess < jackpot:\n",
    "        print(\"guess higher\")\n",
    "    else:\n",
    "        print(\"guess lower\")\n",
    "        \n",
    "    guess = int(input(\"enter guess new num\"))\n",
    "    counter += 1\n",
    "        \n",
    "print(\" right guess\")"
   ]
  },
  {
   "cell_type": "markdown",
   "id": "90a976d2",
   "metadata": {},
   "source": [
    "#  Break, Continue, Pass\n"
   ]
  },
  {
   "cell_type": "code",
   "execution_count": 128,
   "id": "b984d675",
   "metadata": {},
   "outputs": [
    {
     "name": "stdout",
     "output_type": "stream",
     "text": [
      "1\n",
      "2\n",
      "3\n",
      "4\n"
     ]
    }
   ],
   "source": [
    "for i in range(1,11):\n",
    "    if i == 5:\n",
    "        break\n",
    "    print(i)"
   ]
  },
  {
   "cell_type": "code",
   "execution_count": null,
   "id": "b50d631a",
   "metadata": {},
   "outputs": [],
   "source": []
  },
  {
   "cell_type": "code",
   "execution_count": null,
   "id": "a6602fa8",
   "metadata": {},
   "outputs": [],
   "source": []
  },
  {
   "cell_type": "code",
   "execution_count": 130,
   "id": "144a1155",
   "metadata": {},
   "outputs": [
    {
     "name": "stdout",
     "output_type": "stream",
     "text": [
      "1\n",
      "2\n",
      "3\n",
      "4\n",
      "6\n",
      "7\n",
      "8\n",
      "9\n",
      "10\n"
     ]
    }
   ],
   "source": [
    "for i in range(1,11):\n",
    "    if i == 5:\n",
    "        continue\n",
    "    print(i)"
   ]
  },
  {
   "cell_type": "code",
   "execution_count": 132,
   "id": "a41bfd81",
   "metadata": {},
   "outputs": [],
   "source": [
    "for i in range(1,11):\n",
    "        pass"
   ]
  },
  {
   "cell_type": "markdown",
   "id": "6db29548",
   "metadata": {},
   "source": [
    "# Build in function and build in Module \n"
   ]
  },
  {
   "cell_type": "code",
   "execution_count": null,
   "id": "2d41ffdd",
   "metadata": {},
   "outputs": [],
   "source": [
    "# 15 bild in fun here but there are more\n",
    "#print, input, type, int etc, abs( \"modules fun or positive val\") ,pow ,min/max,\n",
    "#round, divmod(x//y,x%y ), bin/oct/hex,id(a), ord, len,sum, help    "
   ]
  },
  {
   "cell_type": "code",
   "execution_count": 133,
   "id": "7c56553e",
   "metadata": {},
   "outputs": [
    {
     "data": {
      "text/plain": [
       "(2, 1)"
      ]
     },
     "execution_count": 133,
     "metadata": {},
     "output_type": "execute_result"
    }
   ],
   "source": [
    "divmod(5,2)"
   ]
  },
  {
   "cell_type": "code",
   "execution_count": 139,
   "id": "ba9e1611",
   "metadata": {},
   "outputs": [
    {
     "data": {
      "text/plain": [
       "1"
      ]
     },
     "execution_count": 139,
     "metadata": {},
     "output_type": "execute_result"
    }
   ],
   "source": [
    "5%2"
   ]
  },
  {
   "cell_type": "code",
   "execution_count": 140,
   "id": "e2c40452",
   "metadata": {},
   "outputs": [],
   "source": [
    "s = 10"
   ]
  },
  {
   "cell_type": "code",
   "execution_count": 142,
   "id": "6660a59e",
   "metadata": {},
   "outputs": [
    {
     "data": {
      "text/plain": [
       "2385316244048"
      ]
     },
     "execution_count": 142,
     "metadata": {},
     "output_type": "execute_result"
    }
   ],
   "source": [
    "## address\n",
    "id(s)"
   ]
  },
  {
   "cell_type": "code",
   "execution_count": 138,
   "id": "af7a9780",
   "metadata": {},
   "outputs": [
    {
     "data": {
      "text/plain": [
       "97"
      ]
     },
     "execution_count": 138,
     "metadata": {},
     "output_type": "execute_result"
    }
   ],
   "source": [
    "## ascaii val\n",
    "ord(\"a\")"
   ]
  },
  {
   "cell_type": "code",
   "execution_count": 143,
   "id": "af28f4b9",
   "metadata": {},
   "outputs": [
    {
     "name": "stdout",
     "output_type": "stream",
     "text": [
      "No Python documentation found for '56'.\n",
      "Use help() to get the interactive help utility.\n",
      "Use help(str) for help on the str class.\n",
      "\n"
     ]
    }
   ],
   "source": [
    "help(sum)"
   ]
  },
  {
   "cell_type": "markdown",
   "id": "e7789f04",
   "metadata": {},
   "source": [
    "# Module\n",
    "## Consider a module to be the same as a code liberary\n",
    "#### a file containing a set of functins you want to include in your application.\n",
    "\n",
    "#### example :  Math,Random,os,time"
   ]
  },
  {
   "cell_type": "code",
   "execution_count": null,
   "id": "e74d6c80",
   "metadata": {},
   "outputs": [
    {
     "name": "stdout",
     "output_type": "stream",
     "text": [
      "\n",
      "Please wait a moment while I gather a list of all available modules...\n",
      "\n"
     ]
    },
    {
     "name": "stderr",
     "output_type": "stream",
     "text": [
      "C:\\Users\\yoges\\anaconda3\\lib\\site-packages\\IPython\\kernel\\__init__.py:12: ShimWarning: The `IPython.kernel` package has been deprecated since IPython 4.0.You should import from ipykernel or jupyter_client instead.\n",
      "  warn(\"The `IPython.kernel` package has been deprecated since IPython 4.0.\"\n",
      "WARNING: AstropyDeprecationWarning: The private astropy._erfa module has been made into its own package, pyerfa, which is a dependency of astropy and can be imported directly using \"import erfa\" [astropy._erfa]\n",
      "C:\\Users\\yoges\\anaconda3\\lib\\site-packages\\paramiko\\transport.py:219: CryptographyDeprecationWarning: Blowfish has been deprecated\n",
      "  \"class\": algorithms.Blowfish,\n",
      "C:\\Users\\yoges\\anaconda3\\lib\\site-packages\\nltk\\twitter\\__init__.py:20: UserWarning: The twython library has not been installed. Some functionality from the twitter package will not be available.\n",
      "  warnings.warn(\n",
      "C:\\Users\\yoges\\anaconda3\\lib\\site-packages\\_distutils_hack\\__init__.py:33: UserWarning: Setuptools is replacing distutils.\n",
      "  warnings.warn(\"Setuptools is replacing distutils.\")\n",
      "No QCoreApplication instance found. Application patches not applied. You have to call load_stylesheet function after instantiation of QApplication to take effect. \n",
      "C:\\Users\\yoges\\anaconda3\\lib\\pkgutil.py:108: VisibleDeprecationWarning:\n",
      "\n",
      "zmq.eventloop.minitornado is deprecated in pyzmq 14.0 and will be removed.\n",
      "    Install tornado itself to use zmq with the tornado IOLoop.\n",
      "    \n",
      "\n"
     ]
    }
   ],
   "source": [
    "help('modules')"
   ]
  },
  {
   "cell_type": "code",
   "execution_count": null,
   "id": "f039901a",
   "metadata": {},
   "outputs": [],
   "source": [
    "import math"
   ]
  },
  {
   "cell_type": "code",
   "execution_count": null,
   "id": "498fbe87",
   "metadata": {},
   "outputs": [],
   "source": [
    "math."
   ]
  },
  {
   "cell_type": "code",
   "execution_count": 1,
   "id": "8f48f79a",
   "metadata": {},
   "outputs": [],
   "source": [
    "import time"
   ]
  },
  {
   "cell_type": "code",
   "execution_count": 2,
   "id": "68fd66fc",
   "metadata": {},
   "outputs": [
    {
     "data": {
      "text/plain": [
       "1674406943.4634156"
      ]
     },
     "execution_count": 2,
     "metadata": {},
     "output_type": "execute_result"
    }
   ],
   "source": [
    "time.time()"
   ]
  },
  {
   "cell_type": "code",
   "execution_count": 4,
   "id": "f044841d",
   "metadata": {},
   "outputs": [
    {
     "data": {
      "text/plain": [
       "'Sun Jan 22 22:32:39 2023'"
      ]
     },
     "execution_count": 4,
     "metadata": {},
     "output_type": "execute_result"
    }
   ],
   "source": [
    "time.ctime()"
   ]
  },
  {
   "cell_type": "code",
   "execution_count": 5,
   "id": "ee4351c7",
   "metadata": {},
   "outputs": [
    {
     "name": "stdout",
     "output_type": "stream",
     "text": [
      "hello\n",
      "abhi\n"
     ]
    }
   ],
   "source": [
    "print(\"hello\")\n",
    "time.sleep(2)\n",
    "print(\"abhi\")"
   ]
  },
  {
   "cell_type": "code",
   "execution_count": 8,
   "id": "e5d37d28",
   "metadata": {},
   "outputs": [
    {
     "name": "stdout",
     "output_type": "stream",
     "text": [
      "C:\\Users\\yoges\\pythonFolder\n",
      "['.ipynb_checkpoints', '1st sql with python.ipynb', '2.jpg', '20 questions.ipynb', 'Adv_Py_Exception_hand.ipynb', 'Basic_python.ipynb', 'births.csv', 'exception', 'File Handling.ipynb', 'gfgf.txt', 'glass.data', 'inheritance_SI_MI_mI.ipynb', 'iterators.ipynb', 'list.log', 'Logining.ipynb', 'my_module.py', 'new.txt', 'OOPs_1ST.ipynb', 'pandas_working_numpy', 'Python_courseX.ipynb', 'python_oops', 'python_VC1 TY.CA.ipynb', 'python_VC2_L-T-S-D.ipynb', 'python_VC3_Fun.ipynb', 'python_VC3_IF-ELSE-S.ipynb', 'python_VC3_ITerable-gen.ipynb', 'Sql_NOsql', 'test.txt', 'test1.py', 'test1.txt', 'test8.txt', 'Untitled.ipynb', 'untitled.txt', 'Untitled1.ipynb', 'Untitled2.ipynb', 'Untitled3.ipynb', 'Untitled4.ipynb', '__pycache__']\n"
     ]
    }
   ],
   "source": [
    "import os\n",
    "print(os.getcwd())\n",
    "print(os.listdir())"
   ]
  },
  {
   "cell_type": "markdown",
   "id": "d95fdccb",
   "metadata": {},
   "source": [
    "# String \n",
    "### string are sequence of character\n",
    "### in python specially.string are a sequence of unicode characters\n",
    "\n",
    "- creating string\n",
    "- Accessing string\n",
    "- Editing string\n",
    "- Deleting string\n",
    "- operations on string\n",
    "- string Function"
   ]
  },
  {
   "cell_type": "code",
   "execution_count": 9,
   "id": "04902ac6",
   "metadata": {},
   "outputs": [
    {
     "name": "stdout",
     "output_type": "stream",
     "text": [
      "hello\n",
      "thi's a raju\n",
      " this is use for blog \n"
     ]
    }
   ],
   "source": [
    "# creting string\n",
    "c = 'hello'\n",
    "x = \"thi's a raju\"\n",
    "a = \"\"\"this is use for blog \"\"\"\n",
    "print(c)\n",
    "print(x)\n",
    "print(a)"
   ]
  },
  {
   "cell_type": "code",
   "execution_count": 14,
   "id": "16ee06de",
   "metadata": {},
   "outputs": [
    {
     "name": "stdout",
     "output_type": "stream",
     "text": [
      "l\n",
      "o\n"
     ]
    },
    {
     "ename": "IndexError",
     "evalue": "string index out of range",
     "output_type": "error",
     "traceback": [
      "\u001b[1;31m---------------------------------------------------------------------------\u001b[0m",
      "\u001b[1;31mIndexError\u001b[0m                                Traceback (most recent call last)",
      "\u001b[1;32m~\\AppData\\Local\\Temp\\ipykernel_1344\\67486394.py\u001b[0m in \u001b[0;36m<module>\u001b[1;34m\u001b[0m\n\u001b[0;32m      5\u001b[0m \u001b[0mprint\u001b[0m\u001b[1;33m(\u001b[0m\u001b[0mc\u001b[0m\u001b[1;33m[\u001b[0m\u001b[1;36m2\u001b[0m\u001b[1;33m]\u001b[0m\u001b[1;33m)\u001b[0m\u001b[1;33m\u001b[0m\u001b[1;33m\u001b[0m\u001b[0m\n\u001b[0;32m      6\u001b[0m \u001b[0mprint\u001b[0m\u001b[1;33m(\u001b[0m\u001b[0mc\u001b[0m\u001b[1;33m[\u001b[0m\u001b[1;33m-\u001b[0m\u001b[1;36m1\u001b[0m\u001b[1;33m]\u001b[0m\u001b[1;33m)\u001b[0m\u001b[1;33m\u001b[0m\u001b[1;33m\u001b[0m\u001b[0m\n\u001b[1;32m----> 7\u001b[1;33m \u001b[0mprint\u001b[0m\u001b[1;33m(\u001b[0m\u001b[0mc\u001b[0m\u001b[1;33m[\u001b[0m\u001b[1;36m20\u001b[0m\u001b[1;33m]\u001b[0m\u001b[1;33m)\u001b[0m\u001b[1;33m\u001b[0m\u001b[1;33m\u001b[0m\u001b[0m\n\u001b[0m",
      "\u001b[1;31mIndexError\u001b[0m: string index out of range"
     ]
    }
   ],
   "source": [
    "# ACCESSING STRING \n",
    " #positive indexing\n",
    " #negative indexing\n",
    "c = \"Hello\"\n",
    "print(c[2])\n",
    "print(c[-1])\n",
    "print(c[20])"
   ]
  },
  {
   "cell_type": "code",
   "execution_count": 30,
   "id": "f9c2fd2f",
   "metadata": {},
   "outputs": [
    {
     "name": "stdout",
     "output_type": "stream",
     "text": [
      "Hel\n",
      "olH\n",
      "Hello\n",
      "He\n",
      "l\n",
      "Hl\n"
     ]
    }
   ],
   "source": [
    "# Slicing\n",
    "\n",
    "print(c[:-2])\n",
    "print(c[::-2])\n",
    "print(c[::])\n",
    "print(c[:2])\n",
    "print(c[2:-2])\n",
    "print(c[-5:-1:2])"
   ]
  },
  {
   "cell_type": "code",
   "execution_count": 32,
   "id": "58c924fe",
   "metadata": {},
   "outputs": [
    {
     "ename": "TypeError",
     "evalue": "'str' object does not support item assignment",
     "output_type": "error",
     "traceback": [
      "\u001b[1;31m---------------------------------------------------------------------------\u001b[0m",
      "\u001b[1;31mTypeError\u001b[0m                                 Traceback (most recent call last)",
      "\u001b[1;32m~\\AppData\\Local\\Temp\\ipykernel_1344\\971067088.py\u001b[0m in \u001b[0;36m<module>\u001b[1;34m\u001b[0m\n\u001b[0;32m      1\u001b[0m \u001b[1;31m# Edit and delete is not possible\u001b[0m\u001b[1;33m\u001b[0m\u001b[1;33m\u001b[0m\u001b[0m\n\u001b[0;32m      2\u001b[0m \u001b[1;31m# string is immutable Data type but reassign\u001b[0m\u001b[1;33m\u001b[0m\u001b[1;33m\u001b[0m\u001b[0m\n\u001b[1;32m----> 3\u001b[1;33m \u001b[0mc\u001b[0m\u001b[1;33m[\u001b[0m\u001b[1;36m0\u001b[0m\u001b[1;33m]\u001b[0m \u001b[1;33m=\u001b[0m \u001b[1;34m'p'\u001b[0m\u001b[1;33m\u001b[0m\u001b[1;33m\u001b[0m\u001b[0m\n\u001b[0m",
      "\u001b[1;31mTypeError\u001b[0m: 'str' object does not support item assignment"
     ]
    }
   ],
   "source": [
    "# Edit is not possible\n",
    "# string is immutable Data type but reassign \n",
    "c[0] = 'p'"
   ]
  },
  {
   "cell_type": "code",
   "execution_count": 33,
   "id": "9da97617",
   "metadata": {},
   "outputs": [],
   "source": [
    "# delete (not work on char its delete complete only )\n",
    "del c"
   ]
  },
  {
   "cell_type": "code",
   "execution_count": 34,
   "id": "98770215",
   "metadata": {},
   "outputs": [
    {
     "ename": "NameError",
     "evalue": "name 'c' is not defined",
     "output_type": "error",
     "traceback": [
      "\u001b[1;31m---------------------------------------------------------------------------\u001b[0m",
      "\u001b[1;31mNameError\u001b[0m                                 Traceback (most recent call last)",
      "\u001b[1;32m~\\AppData\\Local\\Temp\\ipykernel_1344\\3235490055.py\u001b[0m in \u001b[0;36m<module>\u001b[1;34m\u001b[0m\n\u001b[1;32m----> 1\u001b[1;33m \u001b[0mc\u001b[0m\u001b[1;33m\u001b[0m\u001b[1;33m\u001b[0m\u001b[0m\n\u001b[0m",
      "\u001b[1;31mNameError\u001b[0m: name 'c' is not defined"
     ]
    }
   ],
   "source": [
    "c"
   ]
  },
  {
   "cell_type": "code",
   "execution_count": 35,
   "id": "ca7aa290",
   "metadata": {},
   "outputs": [],
   "source": [
    "# Operation  on string \n",
    "#Arithmatic (+,*)\n",
    "#Relational operation\n",
    "#Logical \n",
    "#loop n strings\n",
    "# membership operation"
   ]
  },
  {
   "cell_type": "code",
   "execution_count": 41,
   "id": "e0bf4778",
   "metadata": {},
   "outputs": [
    {
     "name": "stdout",
     "output_type": "stream",
     "text": [
      "****\n"
     ]
    }
   ],
   "source": [
    "print(\"*\"*4)\n",
    "      "
   ]
  },
  {
   "cell_type": "code",
   "execution_count": 42,
   "id": "a3313948",
   "metadata": {},
   "outputs": [
    {
     "data": {
      "text/plain": [
       "False"
      ]
     },
     "execution_count": 42,
     "metadata": {},
     "output_type": "execute_result"
    }
   ],
   "source": [
    "# lexiographically (dic)\n",
    "\"Mumbai\" > \"Pune\""
   ]
  },
  {
   "cell_type": "code",
   "execution_count": 43,
   "id": "90b1848e",
   "metadata": {},
   "outputs": [
    {
     "data": {
      "text/plain": [
       "False"
      ]
     },
     "execution_count": 43,
     "metadata": {},
     "output_type": "execute_result"
    }
   ],
   "source": [
    "\"A\">\"a\""
   ]
  },
  {
   "cell_type": "code",
   "execution_count": 44,
   "id": "f2ce69c3",
   "metadata": {},
   "outputs": [
    {
     "data": {
      "text/plain": [
       "'world'"
      ]
     },
     "execution_count": 44,
     "metadata": {},
     "output_type": "execute_result"
    }
   ],
   "source": [
    "\"hellow\" and \"world\""
   ]
  },
  {
   "cell_type": "code",
   "execution_count": 46,
   "id": "164b935d",
   "metadata": {},
   "outputs": [],
   "source": [
    "#\"\" -> False\n",
    "#\"abhi\" -> True"
   ]
  },
  {
   "cell_type": "code",
   "execution_count": 48,
   "id": "5c6759b8",
   "metadata": {},
   "outputs": [
    {
     "data": {
      "text/plain": [
       "''"
      ]
     },
     "execution_count": 48,
     "metadata": {},
     "output_type": "execute_result"
    }
   ],
   "source": [
    "\"\" and \"Hello\""
   ]
  },
  {
   "cell_type": "code",
   "execution_count": 49,
   "id": "1a0f53db",
   "metadata": {},
   "outputs": [
    {
     "data": {
      "text/plain": [
       "'abhi'"
      ]
     },
     "execution_count": 49,
     "metadata": {},
     "output_type": "execute_result"
    }
   ],
   "source": [
    "\"\" or \"abhi\""
   ]
  },
  {
   "cell_type": "code",
   "execution_count": 50,
   "id": "f4ce598b",
   "metadata": {},
   "outputs": [
    {
     "data": {
      "text/plain": [
       "'hello'"
      ]
     },
     "execution_count": 50,
     "metadata": {},
     "output_type": "execute_result"
    }
   ],
   "source": [
    "\"hello\" or \"world\""
   ]
  },
  {
   "cell_type": "code",
   "execution_count": 52,
   "id": "74c15b6c",
   "metadata": {},
   "outputs": [
    {
     "data": {
      "text/plain": [
       "False"
      ]
     },
     "execution_count": 52,
     "metadata": {},
     "output_type": "execute_result"
    }
   ],
   "source": [
    "not \"hello\""
   ]
  },
  {
   "cell_type": "code",
   "execution_count": 53,
   "id": "ccc9db01",
   "metadata": {},
   "outputs": [
    {
     "data": {
      "text/plain": [
       "True"
      ]
     },
     "execution_count": 53,
     "metadata": {},
     "output_type": "execute_result"
    }
   ],
   "source": [
    "not \"\""
   ]
  },
  {
   "cell_type": "code",
   "execution_count": 54,
   "id": "cfcb60c0",
   "metadata": {},
   "outputs": [
    {
     "name": "stdout",
     "output_type": "stream",
     "text": [
      "l\n",
      "l\n",
      "o\n"
     ]
    }
   ],
   "source": [
    "# LOOp\n",
    "\n",
    "c = \"hello world\"\n",
    "for i in c[2:5]:\n",
    "    print(i)"
   ]
  },
  {
   "cell_type": "code",
   "execution_count": 55,
   "id": "4af47091",
   "metadata": {},
   "outputs": [
    {
     "data": {
      "text/plain": [
       "True"
      ]
     },
     "execution_count": 55,
     "metadata": {},
     "output_type": "execute_result"
    }
   ],
   "source": [
    "# membership\n",
    "'h' in c"
   ]
  },
  {
   "cell_type": "markdown",
   "id": "ddc06b65",
   "metadata": {},
   "source": [
    "# List:\n",
    "- create(1D,2D,3D)\n",
    "- Access(x[1][2][0])\n",
    "- edit\n",
    "- add(append(last mai single item),extend( multi item append('g;,;o;,;a;)),insert(index,\"txt\"))\n",
    "\n",
    "- delete(del(index,full list),remove(\"txt\"),pop(\"last one del\"),clear(empty list))\n",
    "\n",
    "- operation(+(concatination),*(rplicas))\n",
    "\n",
    "- fun( len,min/max,sorted(asc,dec),sort(permanent operation),index, Title)\n"
   ]
  },
  {
   "cell_type": "code",
   "execution_count": 57,
   "id": "df789fd3",
   "metadata": {},
   "outputs": [
    {
     "name": "stdout",
     "output_type": "stream",
     "text": [
      "This\n",
      "Is\n",
      "Abhishek\n",
      "['This', 'Is', 'Abhishek']\n"
     ]
    }
   ],
   "source": [
    "# make title\n",
    "x = \"this is abhishek\"\n",
    "y =[]\n",
    "for i in x.split(\" \"):\n",
    "    print(i.capitalize())\n",
    "    y.append(i.capitalize())\n",
    "print(y)"
   ]
  },
  {
   "cell_type": "code",
   "execution_count": 59,
   "id": "a7881bf7",
   "metadata": {},
   "outputs": [],
   "source": [
    "x = \"this@isa.com\"\n"
   ]
  },
  {
   "cell_type": "code",
   "execution_count": 62,
   "id": "f6f09729",
   "metadata": {},
   "outputs": [
    {
     "name": "stdout",
     "output_type": "stream",
     "text": [
      "this\n"
     ]
    }
   ],
   "source": [
    "print(x[:x.find(\"@\")])"
   ]
  },
  {
   "cell_type": "code",
   "execution_count": 64,
   "id": "d7c7c991",
   "metadata": {},
   "outputs": [],
   "source": [
    "q = [1,2,5,4,6,88,8,5,4]\n",
    "r = [1,2,4,5,8,88]"
   ]
  },
  {
   "cell_type": "code",
   "execution_count": 65,
   "id": "d419fc85",
   "metadata": {},
   "outputs": [
    {
     "name": "stdout",
     "output_type": "stream",
     "text": [
      "[1, 2, 5, 4, 6, 88, 8]\n"
     ]
    }
   ],
   "source": [
    "l =[]\n",
    "for i in q:\n",
    "    if i not in l:\n",
    "        l.append(i)\n",
    "print(l)"
   ]
  },
  {
   "cell_type": "markdown",
   "id": "50f0e615",
   "metadata": {},
   "source": [
    "# Tuples\n",
    "- create(1,2,3-D)(single item tuple is ->  l = (5,))\n",
    "- access(same slice)\n",
    "- edit(immutable )\n",
    "- add()\n",
    "- delete()\n",
    "- operation(+,*,loop)\n",
    "- function(same,len,min/max,sum,sort,reverse)\n",
    "\n",
    "## Tuples are read only data type: integrity maintain"
   ]
  },
  {
   "cell_type": "markdown",
   "id": "51a760bc",
   "metadata": {},
   "source": [
    "# Sets:\n",
    "\n",
    "- Not allow duplicates\n",
    "- Not  allow indexing \n",
    "- Not allow multiple data types\n",
    "- Set itself mutable(2,3->d nt allow)\n",
    "- for empty set x = set{}\n",
    "- \n",
    "-\n",
    "-\n",
    "-\n"
   ]
  },
  {
   "cell_type": "code",
   "execution_count": 71,
   "id": "9a4f2c84",
   "metadata": {},
   "outputs": [],
   "source": [
    "s1 = set()"
   ]
  },
  {
   "cell_type": "code",
   "execution_count": 73,
   "id": "675e6fa8",
   "metadata": {},
   "outputs": [],
   "source": [
    "s1 = {1,2,5,3,6,5,4,4,5,6,3,4}"
   ]
  },
  {
   "cell_type": "code",
   "execution_count": 75,
   "id": "6b1884f9",
   "metadata": {},
   "outputs": [
    {
     "name": "stdout",
     "output_type": "stream",
     "text": [
      "{1, 2, 3, 4, 5, 6}\n"
     ]
    }
   ],
   "source": [
    "print(s1)"
   ]
  },
  {
   "cell_type": "code",
   "execution_count": 76,
   "id": "3d665175",
   "metadata": {},
   "outputs": [],
   "source": [
    "s2 = {(1,2,3),\"hello\"}"
   ]
  },
  {
   "cell_type": "code",
   "execution_count": 103,
   "id": "178732da",
   "metadata": {},
   "outputs": [
    {
     "data": {
      "text/plain": [
       "set[[100, (1, 2, 3)]]"
      ]
     },
     "execution_count": 103,
     "metadata": {},
     "output_type": "execute_result"
    }
   ],
   "source": [
    "# follow hashing not indexing\n",
    "s2\n"
   ]
  },
  {
   "cell_type": "code",
   "execution_count": 106,
   "id": "27078e5e",
   "metadata": {},
   "outputs": [],
   "source": [
    "k1 = list(s1)"
   ]
  },
  {
   "cell_type": "code",
   "execution_count": 107,
   "id": "1e4c8fc0",
   "metadata": {},
   "outputs": [
    {
     "data": {
      "text/plain": [
       "[1, 2, 3, 4, 5, 6]"
      ]
     },
     "execution_count": 107,
     "metadata": {},
     "output_type": "execute_result"
    }
   ],
   "source": [
    "k1"
   ]
  },
  {
   "cell_type": "code",
   "execution_count": 108,
   "id": "bfea3555",
   "metadata": {},
   "outputs": [],
   "source": [
    "k1[0] =100"
   ]
  },
  {
   "cell_type": "code",
   "execution_count": 109,
   "id": "9f1b2237",
   "metadata": {},
   "outputs": [
    {
     "data": {
      "text/plain": [
       "[100, 2, 3, 4, 5, 6]"
      ]
     },
     "execution_count": 109,
     "metadata": {},
     "output_type": "execute_result"
    }
   ],
   "source": [
    "k1"
   ]
  },
  {
   "cell_type": "code",
   "execution_count": 110,
   "id": "15f7e788",
   "metadata": {},
   "outputs": [],
   "source": [
    "s1 = set(k1)"
   ]
  },
  {
   "cell_type": "code",
   "execution_count": 111,
   "id": "bad3b665",
   "metadata": {},
   "outputs": [
    {
     "data": {
      "text/plain": [
       "{2, 3, 4, 5, 6, 100}"
      ]
     },
     "execution_count": 111,
     "metadata": {},
     "output_type": "execute_result"
    }
   ],
   "source": [
    "s1"
   ]
  },
  {
   "cell_type": "code",
   "execution_count": 112,
   "id": "f39b4357",
   "metadata": {},
   "outputs": [],
   "source": [
    "# delete only full\n",
    "# remove same\n",
    "# pop from start \n"
   ]
  },
  {
   "cell_type": "code",
   "execution_count": null,
   "id": "d4c73f2a",
   "metadata": {},
   "outputs": [],
   "source": []
  },
  {
   "cell_type": "markdown",
   "id": "1a5b7fa0",
   "metadata": {},
   "source": [
    "# Dictionary\n",
    "\n",
    " ## Rules\n",
    "- No indexing\n",
    "- mutable type\n",
    "- key->immutable,val-> mutable\n",
    "- key should be unique\n",
    "- if use repeating key than update that value with latest one\n",
    "\n",
    "\n",
    "\n"
   ]
  },
  {
   "cell_type": "code",
   "execution_count": 117,
   "id": "46d01342",
   "metadata": {},
   "outputs": [
    {
     "name": "stdout",
     "output_type": "stream",
     "text": [
      "55\n",
      "0.0009999275207519531\n",
      "{0: 0, 1: 1, 2: 1, 3: 2, 4: 3, 5: 5, 6: 8, 7: 13, 8: 21, 9: 34, 10: 55}\n"
     ]
    }
   ],
   "source": [
    "# recursion\n",
    "def memo(m,d):\n",
    "    if m in d:\n",
    "        return d[m]\n",
    "    else:\n",
    "        d[m] = memo(m-1,d) + memo(m-2,d)\n",
    "        return d[m]\n",
    "    \n",
    "start = time.time()\n",
    "d = {0:0,1:1}\n",
    "print(memo(10,d))\n",
    "print(time.time()-start)\n",
    "print(d)"
   ]
  },
  {
   "cell_type": "code",
   "execution_count": 118,
   "id": "82ea8132",
   "metadata": {},
   "outputs": [],
   "source": [
    "# powerset \n",
    "x = [1,2]\n",
    "\n"
   ]
  },
  {
   "cell_type": "code",
   "execution_count": null,
   "id": "15586cc3",
   "metadata": {},
   "outputs": [],
   "source": [
    "# Lambda function\n",
    "## No return value\n",
    "## one line\n",
    "## Not use for code reusability\n",
    "## No name\n",
    "## use :  Along with high order function"
   ]
  },
  {
   "cell_type": "code",
   "execution_count": 123,
   "id": "e9460af5",
   "metadata": {},
   "outputs": [
    {
     "name": "stdout",
     "output_type": "stream",
     "text": [
      "7\n",
      "4\n"
     ]
    }
   ],
   "source": [
    "# square num\n",
    "y = lambda x : x**2\n",
    "z = lambda x,y : x+y\n",
    "print(z(2,5))\n",
    "print(y(2))"
   ]
  },
  {
   "cell_type": "code",
   "execution_count": 130,
   "id": "8eee0b58",
   "metadata": {},
   "outputs": [],
   "source": [
    "b = lambda x:x[0]=='a'\n"
   ]
  },
  {
   "cell_type": "code",
   "execution_count": 133,
   "id": "f555eecf",
   "metadata": {},
   "outputs": [
    {
     "data": {
      "text/plain": [
       "True"
      ]
     },
     "execution_count": 133,
     "metadata": {},
     "output_type": "execute_result"
    }
   ],
   "source": [
    "b('abhdf')"
   ]
  },
  {
   "cell_type": "code",
   "execution_count": 135,
   "id": "cb45eed7",
   "metadata": {},
   "outputs": [],
   "source": [
    "b = lambda x: \"Even\" if x%2 == 0 else \"odd\""
   ]
  },
  {
   "cell_type": "code",
   "execution_count": 136,
   "id": "d1f2e27f",
   "metadata": {},
   "outputs": [
    {
     "data": {
      "text/plain": [
       "'Even'"
      ]
     },
     "execution_count": 136,
     "metadata": {},
     "output_type": "execute_result"
    }
   ],
   "source": [
    "b(50)"
   ]
  },
  {
   "cell_type": "code",
   "execution_count": 137,
   "id": "5eedae7e",
   "metadata": {},
   "outputs": [],
   "source": [
    "#HOF\n",
    "## fun use fun for result"
   ]
  },
  {
   "cell_type": "code",
   "execution_count": 141,
   "id": "0b0e09d8",
   "metadata": {},
   "outputs": [
    {
     "name": "stdout",
     "output_type": "stream",
     "text": [
      "112\n",
      "186\n",
      "168\n"
     ]
    }
   ],
   "source": [
    "def return_sum(fun,l):\n",
    "    result = 0\n",
    "    for i in l:\n",
    "        if fun(i):\n",
    "            result += i\n",
    "    return result\n",
    "\n",
    "l = [5,1,7,5,2,3,55,99,66,44,11]\n",
    "x = lambda x:x%2 == 0\n",
    "y = lambda x:x%2 != 0\n",
    "z = lambda x:x%3 == 0\n",
    "\n",
    "print(return_sum(x,l))\n",
    "print(return_sum(y,l))\n",
    "print(return_sum(z,l))"
   ]
  },
  {
   "cell_type": "code",
   "execution_count": 142,
   "id": "d96713bd",
   "metadata": {},
   "outputs": [],
   "source": [
    "# map,filter,reduce\n",
    "\n"
   ]
  },
  {
   "cell_type": "code",
   "execution_count": 148,
   "id": "0233e79b",
   "metadata": {},
   "outputs": [],
   "source": [
    "# map\n",
    "l= [12,5,4,2,3,9,7]\n"
   ]
  },
  {
   "cell_type": "code",
   "execution_count": 149,
   "id": "8e2ab11f",
   "metadata": {},
   "outputs": [
    {
     "data": {
      "text/plain": [
       "<map at 0x2caa3058940>"
      ]
     },
     "execution_count": 149,
     "metadata": {},
     "output_type": "execute_result"
    }
   ],
   "source": [
    "map(lambda x:x**2,l)"
   ]
  },
  {
   "cell_type": "code",
   "execution_count": 150,
   "id": "bba383e8",
   "metadata": {},
   "outputs": [
    {
     "data": {
      "text/plain": [
       "[144, 25, 16, 4, 9, 81, 49]"
      ]
     },
     "execution_count": 150,
     "metadata": {},
     "output_type": "execute_result"
    }
   ],
   "source": [
    "list(map(lambda x:x**2,l))"
   ]
  },
  {
   "cell_type": "code",
   "execution_count": 151,
   "id": "58e7b294",
   "metadata": {},
   "outputs": [
    {
     "data": {
      "text/plain": [
       "[6.0, 2.5, 2.0, 1.0, 1.5, 4.5, 3.5]"
      ]
     },
     "execution_count": 151,
     "metadata": {},
     "output_type": "execute_result"
    }
   ],
   "source": [
    "list(map(lambda x:x/2,l))"
   ]
  },
  {
   "cell_type": "code",
   "execution_count": 152,
   "id": "4f7abeb9",
   "metadata": {},
   "outputs": [
    {
     "data": {
      "text/plain": [
       "[True, False, True, True, False, False, False]"
      ]
     },
     "execution_count": 152,
     "metadata": {},
     "output_type": "execute_result"
    }
   ],
   "source": [
    "list(map(lambda x:x%2==0,l))"
   ]
  },
  {
   "cell_type": "code",
   "execution_count": null,
   "id": "5197ef7f",
   "metadata": {},
   "outputs": [],
   "source": [
    "filter single col\n",
    "\n",
    "\n",
    "map(lambda student:student['name'],student)"
   ]
  },
  {
   "cell_type": "code",
   "execution_count": null,
   "id": "951fb83a",
   "metadata": {},
   "outputs": [],
   "source": []
  },
  {
   "cell_type": "code",
   "execution_count": 153,
   "id": "385d57c6",
   "metadata": {},
   "outputs": [],
   "source": [
    "# filter\n",
    "l = [2,5,6,9,7,4,5]"
   ]
  },
  {
   "cell_type": "code",
   "execution_count": 154,
   "id": "8789b6f1",
   "metadata": {},
   "outputs": [
    {
     "data": {
      "text/plain": [
       "[5, 6, 9, 7, 5]"
      ]
     },
     "execution_count": 154,
     "metadata": {},
     "output_type": "execute_result"
    }
   ],
   "source": [
    "list(filter(lambda x:x>4,l))"
   ]
  },
  {
   "cell_type": "code",
   "execution_count": 155,
   "id": "9726095c",
   "metadata": {},
   "outputs": [
    {
     "data": {
      "text/plain": [
       "['apple', 'cherry']"
      ]
     },
     "execution_count": 155,
     "metadata": {},
     "output_type": "execute_result"
    }
   ],
   "source": [
    "fruits = ['apple','banana','mango','cherry']\n",
    "list(filter(lambda fruit:'e' in fruit,fruits))"
   ]
  },
  {
   "cell_type": "code",
   "execution_count": 157,
   "id": "3cb7f899",
   "metadata": {},
   "outputs": [],
   "source": [
    "# Reduce\n",
    "import functools\n",
    "l = [5,7,6,9,5,8,1]"
   ]
  },
  {
   "cell_type": "code",
   "execution_count": 160,
   "id": "796bd541",
   "metadata": {},
   "outputs": [
    {
     "data": {
      "text/plain": [
       "41"
      ]
     },
     "execution_count": 160,
     "metadata": {},
     "output_type": "execute_result"
    }
   ],
   "source": [
    "functools.reduce(lambda x,y:x+y,l)"
   ]
  },
  {
   "cell_type": "code",
   "execution_count": 162,
   "id": "17eb34a3",
   "metadata": {},
   "outputs": [
    {
     "data": {
      "text/plain": [
       "9"
      ]
     },
     "execution_count": 162,
     "metadata": {},
     "output_type": "execute_result"
    }
   ],
   "source": [
    "functools.reduce(lambda x,y:x if x>y else y,l)"
   ]
  },
  {
   "cell_type": "code",
   "execution_count": 163,
   "id": "4e64abea",
   "metadata": {},
   "outputs": [],
   "source": [
    "l2 = [i**2 for i in range(10)]"
   ]
  },
  {
   "cell_type": "code",
   "execution_count": 164,
   "id": "d75ab20e",
   "metadata": {},
   "outputs": [
    {
     "data": {
      "text/plain": [
       "[0, 1, 4, 9, 16, 25, 36, 49, 64, 81]"
      ]
     },
     "execution_count": 164,
     "metadata": {},
     "output_type": "execute_result"
    }
   ],
   "source": [
    "l2"
   ]
  },
  {
   "cell_type": "code",
   "execution_count": 165,
   "id": "0fff12bf",
   "metadata": {},
   "outputs": [
    {
     "data": {
      "text/plain": [
       "[0, 4, 16, 36, 64]"
      ]
     },
     "execution_count": 165,
     "metadata": {},
     "output_type": "execute_result"
    }
   ],
   "source": [
    "[i**2 for i in range(10) if i%2 ==0]"
   ]
  },
  {
   "cell_type": "code",
   "execution_count": 168,
   "id": "16dffb9f",
   "metadata": {},
   "outputs": [
    {
     "data": {
      "text/plain": [
       "['apple']"
      ]
     },
     "execution_count": 168,
     "metadata": {},
     "output_type": "execute_result"
    }
   ],
   "source": [
    "[fruit for fruit in fruits if fruit[0] == 'a']"
   ]
  },
  {
   "cell_type": "code",
   "execution_count": 169,
   "id": "2491024c",
   "metadata": {},
   "outputs": [],
   "source": [
    "d = {'name':'abhi','age':30}"
   ]
  },
  {
   "cell_type": "code",
   "execution_count": 171,
   "id": "3bd3b924",
   "metadata": {},
   "outputs": [
    {
     "data": {
      "text/plain": [
       "dict_items([('name', 'abhi'), ('age', 30)])"
      ]
     },
     "execution_count": 171,
     "metadata": {},
     "output_type": "execute_result"
    }
   ],
   "source": [
    "d.items()"
   ]
  },
  {
   "cell_type": "code",
   "execution_count": 174,
   "id": "661b3e2a",
   "metadata": {},
   "outputs": [],
   "source": [
    "d1 = {key:value for key,value in d.items() if len(key) > 3}"
   ]
  },
  {
   "cell_type": "code",
   "execution_count": 175,
   "id": "d3da1149",
   "metadata": {},
   "outputs": [
    {
     "data": {
      "text/plain": [
       "{'name': 'abhi'}"
      ]
     },
     "execution_count": 175,
     "metadata": {},
     "output_type": "execute_result"
    }
   ],
   "source": [
    "d1"
   ]
  },
  {
   "cell_type": "code",
   "execution_count": 176,
   "id": "5b27ce90",
   "metadata": {},
   "outputs": [],
   "source": [
    "d2 = {item:item**2 for item in l}"
   ]
  },
  {
   "cell_type": "code",
   "execution_count": 177,
   "id": "8899308d",
   "metadata": {},
   "outputs": [
    {
     "data": {
      "text/plain": [
       "{5: 25, 7: 49, 6: 36, 9: 81, 8: 64, 1: 1}"
      ]
     },
     "execution_count": 177,
     "metadata": {},
     "output_type": "execute_result"
    }
   ],
   "source": [
    "d2"
   ]
  },
  {
   "cell_type": "code",
   "execution_count": null,
   "id": "3541a0cc",
   "metadata": {},
   "outputs": [],
   "source": []
  }
 ],
 "metadata": {
  "kernelspec": {
   "display_name": "Python 3 (ipykernel)",
   "language": "python",
   "name": "python3"
  },
  "language_info": {
   "codemirror_mode": {
    "name": "ipython",
    "version": 3
   },
   "file_extension": ".py",
   "mimetype": "text/x-python",
   "name": "python",
   "nbconvert_exporter": "python",
   "pygments_lexer": "ipython3",
   "version": "3.9.13"
  }
 },
 "nbformat": 4,
 "nbformat_minor": 5
}
