{
 "cells": [
  {
   "cell_type": "code",
   "execution_count": 1,
   "id": "05318d46-e9b1-4e47-a701-d082171e1555",
   "metadata": {},
   "outputs": [],
   "source": [
    "class test:\n",
    "    def meth1(self):\n",
    "        return \"this is my first method\"\n",
    "    "
   ]
  },
  {
   "cell_type": "code",
   "execution_count": 2,
   "id": "53305f79-3807-4435-adcb-5f3f3b04a88f",
   "metadata": {},
   "outputs": [],
   "source": [
    "a = test()"
   ]
  },
  {
   "cell_type": "code",
   "execution_count": 4,
   "id": "1136fd2a-7b82-4e55-b6a2-21811121e101",
   "metadata": {},
   "outputs": [
    {
     "data": {
      "text/plain": [
       "'this is my first method'"
      ]
     },
     "execution_count": 4,
     "metadata": {},
     "output_type": "execute_result"
    }
   ],
   "source": [
    "a.meth1()"
   ]
  },
  {
   "cell_type": "code",
   "execution_count": 23,
   "id": "bd9711f7-5918-4a69-a418-3d249509cd23",
   "metadata": {},
   "outputs": [],
   "source": [
    "## without object use method by decorator\n",
    "\n",
    "class test1:\n",
    "    @staticmethod\n",
    "    def meth1():\n",
    "        return \"this is meth you can use without creating object\"\n",
    "    def meth2(self):\n",
    "        return \"this is a meth without static\""
   ]
  },
  {
   "cell_type": "code",
   "execution_count": 24,
   "id": "026e263b-af2f-4bb6-adcd-ade23be75ee3",
   "metadata": {},
   "outputs": [],
   "source": [
    "b = test1()"
   ]
  },
  {
   "cell_type": "code",
   "execution_count": 25,
   "id": "cd791627-d413-44f2-9b7c-1042f2ea41ef",
   "metadata": {},
   "outputs": [
    {
     "data": {
      "text/plain": [
       "'this is meth you can use without creating object'"
      ]
     },
     "execution_count": 25,
     "metadata": {},
     "output_type": "execute_result"
    }
   ],
   "source": [
    "# because of static method we make\n",
    "b.meth1()"
   ]
  },
  {
   "cell_type": "code",
   "execution_count": 26,
   "id": "859613b0-6f1d-4288-97ce-81c9cb416027",
   "metadata": {},
   "outputs": [
    {
     "data": {
      "text/plain": [
       "'this is a meth without static'"
      ]
     },
     "execution_count": 26,
     "metadata": {},
     "output_type": "execute_result"
    }
   ],
   "source": [
    "b.meth2()"
   ]
  },
  {
   "cell_type": "code",
   "execution_count": 27,
   "id": "7a5dfc0b-5890-4ccc-b243-f71c279780ee",
   "metadata": {},
   "outputs": [],
   "source": [
    "# Anotated with the static method \n",
    "#remove pointer just access with classname.method()"
   ]
  },
  {
   "cell_type": "code",
   "execution_count": 28,
   "id": "e6affa28-8207-4a6c-83bd-ce0b430ec77e",
   "metadata": {},
   "outputs": [],
   "source": [
    "class test2:\n",
    "    def __init__(self,a,b,c):\n",
    "        self.a = a\n",
    "        self.b = b\n",
    "        self.c = c\n",
    "        \n",
    "    def meth1(self,n):\n",
    "        return \"this is my meth1\"\n",
    "    def meth3(self,m):\n",
    "        return m"
   ]
  },
  {
   "cell_type": "code",
   "execution_count": 32,
   "id": "03983dd0-9858-433e-acba-a2dd20fa6d2a",
   "metadata": {},
   "outputs": [],
   "source": [
    "a_test2 = test2(\"abhi\",32,\"kumar\")"
   ]
  },
  {
   "cell_type": "code",
   "execution_count": 33,
   "id": "810fe146-ecc1-4de7-ad8e-2e94e139ad0e",
   "metadata": {},
   "outputs": [],
   "source": [
    "b_test2 =  test2(\"abhi\",17,\"raj\")"
   ]
  },
  {
   "cell_type": "code",
   "execution_count": 34,
   "id": "a49231e1-a43c-4228-8292-15defeb981fd",
   "metadata": {},
   "outputs": [],
   "source": [
    "c_test2 = test2(\"annu\",34,\"best\")"
   ]
  },
  {
   "cell_type": "code",
   "execution_count": null,
   "id": "508fc911-041a-4843-b0e7-3063b71ca097",
   "metadata": {},
   "outputs": [],
   "source": []
  },
  {
   "cell_type": "code",
   "execution_count": 45,
   "id": "c9ce00e1-345a-4636-97e0-eff14b3d0529",
   "metadata": {},
   "outputs": [],
   "source": [
    "class parent1:\n",
    "    \n",
    "    def parent_meth(self):\n",
    "        return \"this is a parent method\"\n",
    "\n",
    "class parent2:\n",
    "    \n",
    "    def parent_meth2(self):\n",
    "        return \"this is parent meth2\"\n",
    "\n",
    "class parent3:\n",
    "    \n",
    "    def parent_meth(self):\n",
    "        return \"this is a parent meth3\"\n",
    "#mutiple inheritance\n",
    "class child(parent1,parent2,parent3):\n",
    "    \n",
    "    def child_meth(self):\n",
    "        return \"this is my child\"\n",
    "    \n",
    "\n",
    "    "
   ]
  },
  {
   "cell_type": "code",
   "execution_count": 46,
   "id": "07d7cbd3-97b6-4cc3-818b-646770b47a6f",
   "metadata": {},
   "outputs": [],
   "source": [
    "var_child = child()"
   ]
  },
  {
   "cell_type": "code",
   "execution_count": 44,
   "id": "cccb86a5-ff70-434d-8638-71a03b5289d2",
   "metadata": {},
   "outputs": [
    {
     "data": {
      "text/plain": [
       "'this is a parent method'"
      ]
     },
     "execution_count": 44,
     "metadata": {},
     "output_type": "execute_result"
    }
   ],
   "source": [
    "var_child.parent_meth()"
   ]
  },
  {
   "cell_type": "code",
   "execution_count": 48,
   "id": "24014a5b-402b-4c67-ba24-48a06570b436",
   "metadata": {},
   "outputs": [
    {
     "data": {
      "text/plain": [
       "'this is parent meth2'"
      ]
     },
     "execution_count": 48,
     "metadata": {},
     "output_type": "execute_result"
    }
   ],
   "source": [
    "var_child.parent_meth2()"
   ]
  },
  {
   "cell_type": "code",
   "execution_count": 49,
   "id": "3492b754-8a95-4ce8-92d3-5131c454660f",
   "metadata": {},
   "outputs": [],
   "source": [
    "## Multilevel Inheritance"
   ]
  },
  {
   "cell_type": "code",
   "execution_count": 50,
   "id": "9099f255-fa12-4d29-925e-ed69a1e6f388",
   "metadata": {},
   "outputs": [],
   "source": [
    "class class1:\n",
    "    \n",
    "    def class1_meth(self):\n",
    "        return \"class1_meth\"\n",
    "    \n",
    "class class2(class1):\n",
    "    \n",
    "    def class2_meth(self):\n",
    "        pass\n",
    "\n",
    "class class3(class2):\n",
    "    \n",
    "    def classs3_meth(self):\n",
    "        return \"this is my class3\"\n",
    "    \n",
    "    "
   ]
  },
  {
   "cell_type": "code",
   "execution_count": 54,
   "id": "002736e4-f752-4125-83ea-cfa07d850880",
   "metadata": {},
   "outputs": [],
   "source": [
    "var_class3 = class3()"
   ]
  },
  {
   "cell_type": "code",
   "execution_count": 55,
   "id": "b88f7217-ba16-4ec7-901d-355055f478de",
   "metadata": {},
   "outputs": [
    {
     "data": {
      "text/plain": [
       "<bound method class1.class1_meth of <__main__.class3 object at 0x7fb2582b9150>>"
      ]
     },
     "execution_count": 55,
     "metadata": {},
     "output_type": "execute_result"
    }
   ],
   "source": [
    "var_class3.class1_meth"
   ]
  },
  {
   "cell_type": "code",
   "execution_count": 59,
   "id": "11a5a438-eef0-4f4f-8f98-a535c7f54d96",
   "metadata": {},
   "outputs": [
    {
     "data": {
      "text/plain": [
       "'class1_meth'"
      ]
     },
     "execution_count": 59,
     "metadata": {},
     "output_type": "execute_result"
    }
   ],
   "source": [
    "var_class3.class1_meth()"
   ]
  },
  {
   "cell_type": "code",
   "execution_count": 60,
   "id": "a09b8f54-ecea-47e3-80bc-b890c738b43b",
   "metadata": {},
   "outputs": [],
   "source": [
    "class test5:\n",
    "    \n",
    "    def test(self):\n",
    "        return \"this is my test metgh\"\n",
    "    \n",
    "class test6:\n",
    "    \n",
    "    def test(self):\n",
    "        return \"this is my method from class test6 called test\"\n",
    "    \n",
    "class test7(test5):\n",
    "    \n",
    "    def test(self):\n",
    "        return \"this is my test from test7\""
   ]
  },
  {
   "cell_type": "code",
   "execution_count": 64,
   "id": "55f48500-607e-4863-b40e-d03a8fe279e7",
   "metadata": {},
   "outputs": [],
   "source": [
    "var_classtest7 = test7()"
   ]
  },
  {
   "cell_type": "code",
   "execution_count": 65,
   "id": "ad32be57-ef81-4b85-b41f-68510a3a700f",
   "metadata": {},
   "outputs": [
    {
     "data": {
      "text/plain": [
       "'this is my test from test7'"
      ]
     },
     "execution_count": 65,
     "metadata": {},
     "output_type": "execute_result"
    }
   ],
   "source": [
    "## method overriding(same methodname,signature same change defination)\n",
    "var_classtest7.test()"
   ]
  },
  {
   "cell_type": "code",
   "execution_count": null,
   "id": "6bc8eccf-6a80-4d7c-a1fd-e170d3e29a0a",
   "metadata": {},
   "outputs": [],
   "source": [
    "## method overloading(method name same, num or type arg not same_)"
   ]
  },
  {
   "cell_type": "code",
   "execution_count": 66,
   "id": "8f51eec7-6cac-4b1a-aa07-540116f55dbc",
   "metadata": {},
   "outputs": [],
   "source": [
    "class test8:\n",
    "    \n",
    "    def test(self , c = 5, b = 4 , d = 7):\n",
    "        return c,b,d"
   ]
  },
  {
   "cell_type": "code",
   "execution_count": 67,
   "id": "5944de7f-791c-436a-9610-5c9a82823adb",
   "metadata": {},
   "outputs": [],
   "source": [
    "var_test8 = test8()"
   ]
  },
  {
   "cell_type": "code",
   "execution_count": 71,
   "id": "79841eb9-ae3b-46cb-b6c1-8a777e60eb58",
   "metadata": {},
   "outputs": [
    {
     "data": {
      "text/plain": [
       "(5, 4, 7)"
      ]
     },
     "execution_count": 71,
     "metadata": {},
     "output_type": "execute_result"
    }
   ],
   "source": [
    "var_test8.test()"
   ]
  },
  {
   "cell_type": "code",
   "execution_count": 70,
   "id": "835b3aa8-67f9-4000-91d5-cb7a6e1286bd",
   "metadata": {},
   "outputs": [
    {
     "data": {
      "text/plain": [
       "('abhi', 4, 7)"
      ]
     },
     "execution_count": 70,
     "metadata": {},
     "output_type": "execute_result"
    }
   ],
   "source": [
    "var_test8.test(\"abhi\")"
   ]
  },
  {
   "cell_type": "code",
   "execution_count": 75,
   "id": "afa50e23-4d57-47e0-97c3-4def03015938",
   "metadata": {},
   "outputs": [
    {
     "data": {
      "text/plain": [
       "('abhi', 'raju', 7)"
      ]
     },
     "execution_count": 75,
     "metadata": {},
     "output_type": "execute_result"
    }
   ],
   "source": [
    "var_test8.test(\"abhi\",\"raju\")"
   ]
  },
  {
   "cell_type": "code",
   "execution_count": null,
   "id": "037a2a2e-5a4e-4904-9800-edb5298cb1dc",
   "metadata": {},
   "outputs": [],
   "source": [
    "# method overloading: name same ,diff parmeter.\n",
    "\n",
    "# method overriding : A.T.situation where sign of fun mean name and parameter are same,defination change."
   ]
  },
  {
   "cell_type": "code",
   "execution_count": null,
   "id": "d03f105d-276e-4425-9580-75fbb2067396",
   "metadata": {},
   "outputs": [],
   "source": [
    "## static method:"
   ]
  },
  {
   "cell_type": "code",
   "execution_count": null,
   "id": "d2178c0d-338a-4616-9b99-3fe604da335a",
   "metadata": {},
   "outputs": [],
   "source": [
    "#Polymorphism : (multiple instancde/forms)\n",
    "# -->besed on sinario change the behavior/nature of same person\n",
    "# -->"
   ]
  },
  {
   "cell_type": "code",
   "execution_count": 76,
   "id": "ca8de3cd-dec8-4429-9a91-0568dada529b",
   "metadata": {},
   "outputs": [],
   "source": [
    "def test(a,b):\n",
    "    return a+b"
   ]
  },
  {
   "cell_type": "code",
   "execution_count": 78,
   "id": "fde4b01f-77ac-42c4-ad1a-aa8e3cb79014",
   "metadata": {},
   "outputs": [
    {
     "data": {
      "text/plain": [
       "11"
      ]
     },
     "execution_count": 78,
     "metadata": {},
     "output_type": "execute_result"
    }
   ],
   "source": [
    "test(7,4)"
   ]
  },
  {
   "cell_type": "code",
   "execution_count": 83,
   "id": "7a3994df-2673-4856-85f2-232994a52e4f",
   "metadata": {},
   "outputs": [
    {
     "data": {
      "text/plain": [
       "'Abhi_V'"
      ]
     },
     "execution_count": 83,
     "metadata": {},
     "output_type": "execute_result"
    }
   ],
   "source": [
    "test(\"Abhi\",\"_V\")\n",
    "#pass string than perform concatination operation "
   ]
  },
  {
   "cell_type": "code",
   "execution_count": 92,
   "id": "c9c4f776-5b15-48b3-9cde-aa4017ed5cba",
   "metadata": {},
   "outputs": [],
   "source": [
    "class test1:\n",
    "    \n",
    "    def test(self):\n",
    "        return \"method from test1\"\n",
    "    \n",
    "class test2:\n",
    "    \n",
    "    def test(self):\n",
    "        return \"method from test2\"\n",
    "    \n",
    "class test3:\n",
    "    \n",
    "    def test(self):\n",
    "        return \"this is my meth from test3\""
   ]
  },
  {
   "cell_type": "code",
   "execution_count": 93,
   "id": "99c59356-a89e-40b7-8d55-38ea9cc474a0",
   "metadata": {},
   "outputs": [],
   "source": [
    "var_class = [test1() , test2() , test3()]\n"
   ]
  },
  {
   "cell_type": "code",
   "execution_count": 94,
   "id": "0af37619-2582-46e9-bff3-bf0dfc2f8d1f",
   "metadata": {},
   "outputs": [
    {
     "name": "stdout",
     "output_type": "stream",
     "text": [
      "method from test1\n",
      "method from test2\n",
      "this is my meth from test3\n"
     ]
    }
   ],
   "source": [
    "for i in var_class:\n",
    "    print(i.test())"
   ]
  },
  {
   "cell_type": "code",
   "execution_count": null,
   "id": "413bf998-0891-48f4-bad4-32b6d4505414",
   "metadata": {},
   "outputs": [],
   "source": [
    "#same entitty,same name same sig,behavious change on use\n",
    "#overriding : same name,same sig  ,de change\n",
    "#overloading: "
   ]
  },
  {
   "cell_type": "code",
   "execution_count": null,
   "id": "f972a2e5-129e-464c-bcfe-faae018c33ed",
   "metadata": {},
   "outputs": [],
   "source": []
  },
  {
   "cell_type": "code",
   "execution_count": null,
   "id": "b7ea8e9f-5c28-4d6a-a2ad-990917dad744",
   "metadata": {},
   "outputs": [],
   "source": [
    "#q1: create file class for read data fom one of the file with method name read and write\n",
    "## use logging and exception handling is mendatory "
   ]
  },
  {
   "cell_type": "code",
   "execution_count": null,
   "id": "30a0f2d3-b28c-49e1-b388-4d3daef0d8c8",
   "metadata": {},
   "outputs": [],
   "source": [
    "class file:\n",
    "    def read(self):\n",
    "        return\n",
    "    \n",
    "    def write(self):\n",
    "        return"
   ]
  },
  {
   "cell_type": "code",
   "execution_count": 95,
   "id": "85775c46-038a-4eeb-a54f-6d384d6f9a67",
   "metadata": {},
   "outputs": [],
   "source": [
    "###\n",
    "def read():\n",
    "    try:\n",
    "        with open('test.txt','r') as file:\n",
    "        \tdata = file.read()\n",
    "        \treturn data\n",
    "    except FileNotFoundError as e:\n",
    "        print(e)"
   ]
  },
  {
   "cell_type": "code",
   "execution_count": 96,
   "id": "d61932d8-cc33-43f7-8eb3-9ba58675f72e",
   "metadata": {},
   "outputs": [
    {
     "name": "stdout",
     "output_type": "stream",
     "text": [
      "[Errno 2] No such file or directory: 'test.txt'\n"
     ]
    }
   ],
   "source": [
    "read()"
   ]
  },
  {
   "cell_type": "code",
   "execution_count": 100,
   "id": "42f42b84-0a26-4a85-b1d8-a7bfe94597f0",
   "metadata": {},
   "outputs": [],
   "source": [
    "def write():\n",
    "    with open('test.txt','w') as file:\n",
    "        data1 = file.write(\"this is my data \")\n",
    "        "
   ]
  },
  {
   "cell_type": "code",
   "execution_count": 102,
   "id": "c9c0ef1a-4152-4d07-b92f-85280628289c",
   "metadata": {},
   "outputs": [],
   "source": [
    "write()"
   ]
  },
  {
   "cell_type": "code",
   "execution_count": 110,
   "id": "f11734b7-fa75-40ea-a435-de97c2237761",
   "metadata": {},
   "outputs": [
    {
     "ename": "TabError",
     "evalue": "inconsistent use of tabs and spaces in indentation (288928315.py, line 5)",
     "output_type": "error",
     "traceback": [
      "\u001b[0;36m  Cell \u001b[0;32mIn [110], line 5\u001b[0;36m\u001b[0m\n\u001b[0;31m    data = file.read()\u001b[0m\n\u001b[0m    ^\u001b[0m\n\u001b[0;31mTabError\u001b[0m\u001b[0;31m:\u001b[0m inconsistent use of tabs and spaces in indentation\n"
     ]
    }
   ],
   "source": [
    "class file:\n",
    "    def read(self):\n",
    "        try:\n",
    "        \twith open('test.txt','r') as file:\n",
    "                data = file.read()\n",
    "                return data\n",
    "    \texcept FileNotFoundError as e:\n",
    "        \tprint(e)\n",
    "    def write(self,data1):\n",
    "        try:\n",
    "            with open('test.txt','w') as file:\n",
    "        \t\tdata = file.write(\"this is my data \")\n",
    "        except Exception as e:\n",
    "            print(e)"
   ]
  },
  {
   "cell_type": "code",
   "execution_count": null,
   "id": "ac9ef4d7-bc06-465a-86d9-3841f6387423",
   "metadata": {},
   "outputs": [],
   "source": [
    "file_obj = file()\n",
    "file_obj = read()"
   ]
  },
  {
   "cell_type": "code",
   "execution_count": null,
   "id": "c817dca9-94e6-4a2f-b768-a4b98fca90a3",
   "metadata": {},
   "outputs": [],
   "source": []
  },
  {
   "cell_type": "code",
   "execution_count": null,
   "id": "a61d556c-5ce5-436e-904c-47794d339978",
   "metadata": {},
   "outputs": [],
   "source": []
  },
  {
   "cell_type": "code",
   "execution_count": 111,
   "id": "cd26003a-4fb2-4e23-9a95-d04c298f75d7",
   "metadata": {},
   "outputs": [],
   "source": [
    "import logging\n",
    "\n",
    "logging.basicConfig(filename = 'file_class.log',level=logging.DEBUG ,filemode='w',format = \"%(asctime)s %(levelname)s %(message)s\") \n",
    "\n",
    "class file : \n",
    "    def __init__(self,)\n",
    "    def read(self):\n",
    "        logging.info(\"this is a start of read operation\")\n",
    "        try :\n",
    "            logging.info(\"i am inside try block of read method\")\n",
    "            with open('test.txt' , 'r') as file :\n",
    "                data = file.read()\n",
    "                logging.info(\"i am able to read the file\")\n",
    "                return data\n",
    "        except FileNotFoundError as e :\n",
    "            #print(e)\n",
    "            logging.error(\"there is some issue read file operation\")\n",
    "            logging.error(e)\n",
    "        \n",
    "    def write(self,data1):\n",
    "        try: \n",
    "            \n",
    "            with open('test.txt' , 'a') as file :\n",
    "                data = file.write(data1) \n",
    "        except Exception as e : \n",
    "            print(e)"
   ]
  },
  {
   "cell_type": "code",
   "execution_count": 122,
   "id": "ba1eb77d-debc-4777-b132-1b7efd8ababe",
   "metadata": {},
   "outputs": [],
   "source": [
    "import logging\n",
    "logging.basicConfig(filename='file_class.log', level=logging.DEBUG , filemode='w', format=\"%(asctime)s %(levelname)s %(message)s\")\n",
    "\n",
    "class file : \n",
    "    def __init__(self , filename)  :\n",
    "        self.filename = filename \n",
    "                    \n",
    "    def read(self):\n",
    "        logging.info(\"This is a start of read operation \" )\n",
    "        try :\n",
    "            logging.info(\"i am inside try block of read method \")\n",
    "            with open(self.filename , 'r') as file :\n",
    "                data = file.read()\n",
    "                logging.info(\"I am able to read the file \")\n",
    "                return data\n",
    "        except FileNotFoundError as e :\n",
    "            #print(e)\n",
    "            logging.error(\"there is some issue with  the read file operation\")\n",
    "            logging.error(e)\n",
    "        \n",
    "    def write(self,data1):\n",
    "        try: \n",
    "            logging.info(\"i am inside try write fun\")\n",
    "            with open(self.filename, 'a') as file :\n",
    "                data = file.write(data1) \n",
    "                logging.info(\"i am able to write data in file\")\n",
    "        except Exception as e : \n",
    "            logging.error(\"there is some issue with  the Write file operation\")\n",
    "            logging.error(e)\n",
    "        \n",
    "            #print(e)"
   ]
  },
  {
   "cell_type": "code",
   "execution_count": 123,
   "id": "cd581257-ed95-4700-8f75-3227e7915926",
   "metadata": {},
   "outputs": [
    {
     "data": {
      "text/plain": [
       "'this is write some code'"
      ]
     },
     "execution_count": 123,
     "metadata": {},
     "output_type": "execute_result"
    }
   ],
   "source": [
    "file_obj = file(\"test1.txt\")\n",
    "file_obj.read()"
   ]
  },
  {
   "cell_type": "code",
   "execution_count": 124,
   "id": "1d7db08a-b783-4f4e-a8e9-3fe95edfab05",
   "metadata": {},
   "outputs": [],
   "source": [
    "file_obj.write(\"this is write some code\")"
   ]
  },
  {
   "cell_type": "code",
   "execution_count": null,
   "id": "0896b2df-5325-4520-acc8-029558390e1a",
   "metadata": {},
   "outputs": [],
   "source": []
  },
  {
   "cell_type": "code",
   "execution_count": 125,
   "id": "2d13aca7-620b-4575-818b-0f6c06c01c1d",
   "metadata": {},
   "outputs": [
    {
     "name": "stdout",
     "output_type": "stream",
     "text": [
      "file_class.log  Opps2.ipynb  README.md  sample-code.ipynb  test1.txt  test.txt\n"
     ]
    }
   ],
   "source": [
    "ls"
   ]
  },
  {
   "cell_type": "code",
   "execution_count": 129,
   "id": "981666e6-745f-4e86-addb-d58c8577c3f0",
   "metadata": {},
   "outputs": [
    {
     "data": {
      "text/plain": [
       "'/home/jovyan/work'"
      ]
     },
     "execution_count": 129,
     "metadata": {},
     "output_type": "execute_result"
    }
   ],
   "source": [
    "import os\n",
    "os.getcwd()"
   ]
  },
  {
   "cell_type": "code",
   "execution_count": null,
   "id": "3e011a57-57b1-4c03-b2d0-a657bc9cf234",
   "metadata": {},
   "outputs": [],
   "source": []
  },
  {
   "cell_type": "code",
   "execution_count": null,
   "id": "1a67433e-b7a0-4a78-be4b-5f9b7f9ba663",
   "metadata": {},
   "outputs": [],
   "source": [
    "Q1 : Create your own class to perform a list search operation\n",
    "Q2: create a class for dict new element addition\n",
    "Q3: create a class to tuple data extaction operation\n",
    "Q4: create a class to impliment all insert, update,delete operation for mysql\n",
    "Q5: create a class to impliment insert ,update and delete in mongo db\n",
    "Q6: create a class to perform append and delete operation in a file and innsertit it in child class\n",
    "Q7: create a class to import a data into file from mongo db\n",
    "Q8: create a class to uild a calculator functionality addition,sub,mul,modulus,divideetc.\n",
    "Q9: create a class method to find a time and space complexity of a function\n",
    "Q10: create a class to do bulk upload of a file in mysql\n",
    "Q11: give each of 10 diffrent example of polymorphism,encapsulation ,data abstraction, overriding, overloading,all inheritance\n",
    "Q12: explore meaning of \"->\" this signature in python.\n",
    "\n",
    "\n",
    "##21,22 will be  10 am 1st, only for one \n"
   ]
  },
  {
   "cell_type": "code",
   "execution_count": null,
   "id": "98aa8049-84b2-48ac-8123-4756e0e97a5c",
   "metadata": {},
   "outputs": [],
   "source": []
  },
  {
   "cell_type": "code",
   "execution_count": null,
   "id": "b650e868-8d49-47eb-86f5-d5fa1396d7bb",
   "metadata": {},
   "outputs": [],
   "source": []
  },
  {
   "cell_type": "code",
   "execution_count": null,
   "id": "907b1c50-c654-4a80-9a93-54b8d97b62b8",
   "metadata": {},
   "outputs": [],
   "source": []
  },
  {
   "cell_type": "code",
   "execution_count": null,
   "id": "9da649f8-e9cc-42bc-a7ba-04fb383449d7",
   "metadata": {},
   "outputs": [],
   "source": []
  },
  {
   "cell_type": "code",
   "execution_count": null,
   "id": "e6f5c7d9-8933-4846-8913-fb93f4acd698",
   "metadata": {},
   "outputs": [],
   "source": []
  },
  {
   "cell_type": "code",
   "execution_count": null,
   "id": "57df008b-e7cf-4b61-a6de-1769a8e63e3f",
   "metadata": {},
   "outputs": [],
   "source": []
  },
  {
   "cell_type": "code",
   "execution_count": null,
   "id": "1f4c2883-7674-45df-b382-db56e54686a0",
   "metadata": {},
   "outputs": [],
   "source": []
  },
  {
   "cell_type": "code",
   "execution_count": null,
   "id": "b3e4785b-051e-4175-a05f-58a7d3d51a65",
   "metadata": {},
   "outputs": [],
   "source": []
  },
  {
   "cell_type": "code",
   "execution_count": null,
   "id": "c62975ff-1b13-4906-9b88-9cda3b96f2f5",
   "metadata": {},
   "outputs": [],
   "source": []
  }
 ],
 "metadata": {
  "kernelspec": {
   "display_name": "Python 3 (ipykernel)",
   "language": "python",
   "name": "python3"
  },
  "language_info": {
   "codemirror_mode": {
    "name": "ipython",
    "version": 3
   },
   "file_extension": ".py",
   "mimetype": "text/x-python",
   "name": "python",
   "nbconvert_exporter": "python",
   "pygments_lexer": "ipython3",
   "version": "3.10.6"
  }
 },
 "nbformat": 4,
 "nbformat_minor": 5
}
